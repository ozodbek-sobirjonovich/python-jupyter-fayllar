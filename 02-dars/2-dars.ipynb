{
 "cells": [
  {
   "attachments": {},
   "cell_type": "markdown",
   "metadata": {},
   "source": [
    "# **Python Course**\n",
    "**2. Python Variables, Expressions, and Instructions - Python o'zgaruvchilari, iboralar va ko'rsatmalar**\n",
    "\n",
    "### **Course Program:**\n",
    "\n",
    "- The concept of \"value\" and \"type\" - *\"Qiymat\" va \"tur\"tushunchasi*\n",
    "- Variables - *O'zgaruvchilar*\n",
    "- Variable names and keywords (reserved) words - *O'zgaruvchilar nomi va kalit so'zlar (himoyalangan)*\n",
    "- Operators - *Operatorlar*\n",
    "- Expressions - *Iboralar*\n",
    "- Order of operations - *Operatsiyalar tartibi*\n",
    "- String operations - *String operatsiyalari*\n",
    "- Data input - *Ma'lumotlarni kiritish*\n",
    "- Comments - *Izohlar*\n",
    "- Exercises - *Mashqlar*"
   ]
  },
  {
   "attachments": {},
   "cell_type": "markdown",
   "metadata": {},
   "source": [
    "### **The concept of \"value\" and \"type\" - *\"Qiymat\" va \"tur\"tushunchasi***"
   ]
  },
  {
   "attachments": {},
   "cell_type": "markdown",
   "metadata": {},
   "source": [
    "In Python, a \"value\" is a specific piece of data that can be assigned to a variable and can have a \"type,\" which defines what kind of data it is and what operations can be performed on it.\n",
    "\n",
    "---"
   ]
  },
  {
   "attachments": {},
   "cell_type": "markdown",
   "metadata": {},
   "source": [
    "Python-da \"qiymat\" - bu o'zgaruvchiga tayinlanishi mumkin bo'lgan va \"tur\" ga ega bo'lishi mumkin bo'lgan ma'lum bir ma'lumot, bu qanday ma'lumotlar ekanligini va unda qanday operatsiyalarni bajarish mumkinligini belgilaydi."
   ]
  },
  {
   "cell_type": "code",
   "execution_count": 1,
   "metadata": {},
   "outputs": [
    {
     "name": "stdout",
     "output_type": "stream",
     "text": [
      "<class 'int'>\n"
     ]
    }
   ],
   "source": [
    "x = 42\n",
    "print(type(x))  # Output: <class 'int'>"
   ]
  },
  {
   "cell_type": "code",
   "execution_count": 2,
   "metadata": {},
   "outputs": [
    {
     "name": "stdout",
     "output_type": "stream",
     "text": [
      "<class 'str'>\n"
     ]
    }
   ],
   "source": [
    "y = \"Hello, World!\"\n",
    "print(type(y))  # Output: <class 'str'>"
   ]
  },
  {
   "attachments": {},
   "cell_type": "markdown",
   "metadata": {},
   "source": [
    "### **Variables - *O'zgaruvchilar***"
   ]
  },
  {
   "attachments": {},
   "cell_type": "markdown",
   "metadata": {},
   "source": [
    "In Python, a variable is a named container for a value that can be changed during the execution of a program, and it must be assigned a value and a data type when it is created.\n",
    "\n",
    "---"
   ]
  },
  {
   "attachments": {},
   "cell_type": "markdown",
   "metadata": {},
   "source": [
    "Python-da o'zgaruvchi - bu dasturni bajarish paytida o'zgartirilishi mumkin bo'lgan qiymat uchun nomlangan konteyner va u yaratilganda unga qiymat va ma'lumotlar turi berilishi kerak."
   ]
  },
  {
   "cell_type": "code",
   "execution_count": 3,
   "metadata": {},
   "outputs": [
    {
     "name": "stdout",
     "output_type": "stream",
     "text": [
      "<class 'int'>\n",
      "42\n"
     ]
    }
   ],
   "source": [
    "x = 42\n",
    "print(type(x))  # Output: <class 'int'>\n",
    "print(x)        # Output: 42"
   ]
  },
  {
   "cell_type": "code",
   "execution_count": 4,
   "metadata": {},
   "outputs": [
    {
     "name": "stdout",
     "output_type": "stream",
     "text": [
      "<class 'str'>\n",
      "Hello, World!\n"
     ]
    }
   ],
   "source": [
    "y = \"Hello, World!\"\n",
    "print(type(y))  # Output: <class 'str'>\n",
    "print(y)        # Output: Hello, World!"
   ]
  },
  {
   "attachments": {},
   "cell_type": "markdown",
   "metadata": {},
   "source": [
    "### **Variable names and keywords (reserved) words - *O'zgaruvchilar nomi va kalit so'zlar (himoyalangan)***"
   ]
  },
  {
   "attachments": {},
   "cell_type": "markdown",
   "metadata": {},
   "source": [
    "In Python, variable names must follow certain rules and conventions, such as using only letters, numbers, and underscores, beginning with a letter or underscore, and avoiding reserved keywords and built-in function names as variable names. Reserved words or keywords are predefined and cannot be used as variable names.\n",
    "\n",
    "---"
   ]
  },
  {
   "attachments": {},
   "cell_type": "markdown",
   "metadata": {},
   "source": [
    "Pythonda o'zgaruvchan nomlar ma'lum qoidalar va konventsiyalarga amal qilishi kerak, masalan, faqat harflar, raqamlar va pastki chiziqlardan foydalanish, harf yoki pastki chiziq bilan boshlash va o'zgaruvchan nomlar sifatida ajratilgan kalit so'zlar va o'rnatilgan funktsiya nomlaridan qochish. Zaxiralangan so'zlar yoki kalit so'zlar oldindan belgilangan va o'zgaruvchan nomlar sifatida ishlatib bo'lmaydi."
   ]
  },
  {
   "cell_type": "code",
   "execution_count": 5,
   "metadata": {},
   "outputs": [
    {
     "name": "stdout",
     "output_type": "stream",
     "text": [
      "Alice\n",
      "25\n",
      "5.8\n"
     ]
    }
   ],
   "source": [
    "# declaring variables\n",
    "name = \"Alice\"\n",
    "age = 25\n",
    "height = 5.8\n",
    "\n",
    "# printing values\n",
    "print(name)    # Output: Alice\n",
    "print(age)     # Output: 25\n",
    "print(height)  # Output: 5.8"
   ]
  },
  {
   "cell_type": "code",
   "execution_count": 6,
   "metadata": {},
   "outputs": [
    {
     "ename": "SyntaxError",
     "evalue": "invalid decimal literal (4107643804.py, line 7)",
     "output_type": "error",
     "traceback": [
      "\u001b[1;36m  Cell \u001b[1;32mIn[6], line 7\u001b[1;36m\u001b[0m\n\u001b[1;33m    1name = \"Alice\"\u001b[0m\n\u001b[1;37m    ^\u001b[0m\n\u001b[1;31mSyntaxError\u001b[0m\u001b[1;31m:\u001b[0m invalid decimal literal\n"
     ]
    }
   ],
   "source": [
    "# valid variables\n",
    "name = \"Alice\"\n",
    "age = 25\n",
    "height = 5.8\n",
    "\n",
    "# invalid variables\n",
    "1name = \"Alice\"\n",
    "a ge = 25\n",
    "h-eight = 5.8"
   ]
  },
  {
   "attachments": {},
   "cell_type": "markdown",
   "metadata": {},
   "source": [
    "### **Operators - *Operatorlar***"
   ]
  },
  {
   "attachments": {},
   "cell_type": "markdown",
   "metadata": {},
   "source": [
    "Operators in Python are special symbols or characters used to perform various operations on operands, which can be values, variables, or expressions. There are different types of operators in Python, such as arithmetic operators, bitwise operators, logical operators, and comparison operators, among others.\n",
    "\n",
    "---"
   ]
  },
  {
   "attachments": {},
   "cell_type": "markdown",
   "metadata": {},
   "source": [
    "Python-dagi operatorlar-bu qiymatlar, o'zgaruvchilar yoki iboralar bo'lishi mumkin bo'lgan operandlarda turli xil operatsiyalarni bajarish uchun ishlatiladigan maxsus belgilar yoki belgilar. Python-da arifmetik operatorlar, bitli operatorlar, mantiqiy operatorlar va taqqoslash operatorlari va boshqalar kabi turli xil operatorlar mavjud."
   ]
  },
  {
   "cell_type": "code",
   "execution_count": 7,
   "metadata": {},
   "outputs": [
    {
     "name": "stdout",
     "output_type": "stream",
     "text": [
      "15\n",
      "5\n",
      "50\n",
      "2.0\n",
      "0\n",
      "False\n",
      "True\n",
      "True\n",
      "False\n",
      "True\n",
      "False\n",
      "False\n",
      "True\n",
      "False\n"
     ]
    }
   ],
   "source": [
    "x = 10\n",
    "y = 5\n",
    "\n",
    "# Arithmetic operators\n",
    "print(x + y)  # Output: 15\n",
    "print(x - y)  # Output: 5\n",
    "print(x * y)  # Output: 50\n",
    "print(x / y)  # Output: 2.0\n",
    "print(x % y)  # Output: 0\n",
    "\n",
    "# Comparison operators\n",
    "print(x == y)   # Output: False\n",
    "print(x != y)   # Output: True\n",
    "print(x > y)    # Output: True\n",
    "print(x < y)    # Output: False\n",
    "print(x >= y)   # Output: True\n",
    "print(x <= y)   # Output: False\n",
    "\n",
    "# Logical operators\n",
    "a = True\n",
    "b = False\n",
    "print(a and b)  # Output: False\n",
    "print(a or b)   # Output: True\n",
    "print(not a)    # Output: False"
   ]
  },
  {
   "attachments": {},
   "cell_type": "markdown",
   "metadata": {},
   "source": [
    "### **Expressions - *Iboralar***"
   ]
  },
  {
   "attachments": {},
   "cell_type": "markdown",
   "metadata": {},
   "source": [
    "In Python, an expression is a combination of values, variables, operators, and function calls that are evaluated to produce a result and can be used in a variety of ways to manipulate and process data.\n",
    "\n",
    "---"
   ]
  },
  {
   "attachments": {},
   "cell_type": "markdown",
   "metadata": {},
   "source": [
    "Pythonda ifoda-bu natija berish uchun ishlab chiqilgan va ma'lumotlarni boshqarish va qayta ishlash uchun turli usullarda ishlatilishi mumkin bo'lgan qiymatlar, o'zgarishlar, operatorlar va funktsiya chaqiruvlarining kombinatsiyasi."
   ]
  },
  {
   "cell_type": "code",
   "execution_count": 8,
   "metadata": {},
   "outputs": [
    {
     "name": "stdout",
     "output_type": "stream",
     "text": [
      "11\n",
      "False\n",
      "My name is John and I am 25 years old.\n"
     ]
    }
   ],
   "source": [
    "x = 5\n",
    "y = 3\n",
    "z = x + y * 2  # Evaluates to 11\n",
    "print(z)\n",
    "\n",
    "a = True\n",
    "b = False\n",
    "c = not a or b  # Evaluates to False\n",
    "print(c)\n",
    "\n",
    "name = \"John\"\n",
    "age = 25\n",
    "print(\"My name is \" + name + \" and I am \" + str(age) + \" years old.\")  # Output: My name is John and I am 25 years old."
   ]
  },
  {
   "attachments": {},
   "cell_type": "markdown",
   "metadata": {},
   "source": [
    "### **Order of operations - *Operatsiyalar tartibi***"
   ]
  },
  {
   "attachments": {},
   "cell_type": "markdown",
   "metadata": {},
   "source": [
    "In Python, the order of operations is the rule that dictates the sequence in which multiple operations in an expression should be evaluated. The order of operations is determined by the rules of precedence, which are defined by the types of operators and their relative priorities.\n",
    "\n",
    "---"
   ]
  },
  {
   "attachments": {},
   "cell_type": "markdown",
   "metadata": {},
   "source": [
    "Pythonda operatsiyalar tartibi-bu ifodadagi bir nechta operatsiyalarni baholash kerak bo'lgan ketma-ketlikni belgilaydigan qoida. Operatsiyalar tartibi operatorlarning turlari va ularning nisbiy ustuvorliklari bilan belgilanadigan ustuvorlik qoidalari bilan belgilanadi."
   ]
  },
  {
   "cell_type": "code",
   "execution_count": 9,
   "metadata": {},
   "outputs": [
    {
     "data": {
      "text/plain": [
       "12"
      ]
     },
     "execution_count": 9,
     "metadata": {},
     "output_type": "execute_result"
    }
   ],
   "source": [
    "# Operations are evaluated left to right\n",
    "2 + 3 * 4   # Output: 14  (3 * 4 is evaluated first, then 2 is added)\n",
    "\n",
    "# Use parentheses to override the default order \n",
    "(2 + 3) * 4 # Output: 20 (2 + 3 is evaluated first inside the parentheses, then multiplied by 4)\n",
    "\n",
    "# Exponentiation has the highest precedence\n",
    "2 ** 3  # Output: 8  (2 raised to the 3rd power)\n",
    "\n",
    "# Then come multiplication, division and remainder\n",
    "10 / 2 * 5     # Output: 25  (10 / 2 is evaluated first, then multiplied by 5)\n",
    "10 % 3 * 2      # Output: 1   (10 % 3 is evaluated first, 1 is multiplied by 2)  \n",
    "\n",
    "# Then addition and subtraction\n",
    "10 + 5 - 3   # Output: 12  (10 + 5 is evaluated first, then 3 is subtracted)"
   ]
  },
  {
   "attachments": {},
   "cell_type": "markdown",
   "metadata": {},
   "source": [
    "### **String operations - *String operatsiyalari***"
   ]
  },
  {
   "attachments": {},
   "cell_type": "markdown",
   "metadata": {},
   "source": [
    "1. Strings in Python can be manipulated using String Operators like `+`, `*`, and slicing to perform common operations like concatenation, repetition, and extraction of substrings.\n",
    "\n",
    "2. Additionally, Python provides a wide range of String Methods like `replace()`, `split()`, `upper()`, and `lower()` that make it easy to carry out various manipulations on strings, including formatting, searching, and replacing substrings within strings. \n",
    "\n",
    "---"
   ]
  },
  {
   "attachments": {},
   "cell_type": "markdown",
   "metadata": {},
   "source": [
    "1. Python-dagi satrlarni birlashtirish, takrorlash va pastki satrlarni ajratib olish kabi umumiy operatsiyalarni bajarish uchun `+`,  `*` va kesish kabi String operatorlari yordamida boshqarish mumkin.\n",
    "\n",
    "2. Bundan tashqari, Python `replace()`, `split()`, `upper()` va `lower()` kabi qator usullarining keng doirasini taqdim etadi, bu satrlarda turli xil manipulyatsiyalarni, shu jumladan formatlash, qidirish va satrlar ichidagi substringlarni almashtirishni osonlashtiradi."
   ]
  },
  {
   "cell_type": "code",
   "execution_count": 11,
   "metadata": {},
   "outputs": [
    {
     "data": {
      "text/plain": [
       "'My name is John and I am 30 years old.'"
      ]
     },
     "execution_count": 11,
     "metadata": {},
     "output_type": "execute_result"
    }
   ],
   "source": [
    "name = \"John\"\n",
    "age = 30\n",
    "f\"My name is {name} and I am {age} years old.\""
   ]
  },
  {
   "cell_type": "code",
   "execution_count": 13,
   "metadata": {},
   "outputs": [
    {
     "name": "stdout",
     "output_type": "stream",
     "text": [
      "HELLO WORLD\n",
      "hello world\n",
      "Hello World\n",
      "Hello World  \n",
      "  Hello World\n",
      "Hello Universe\n",
      "3\n",
      "2\n",
      "2\n",
      "['Hello', 'World']\n",
      "Hello World\n"
     ]
    }
   ],
   "source": [
    "### `upper()`\n",
    "original_str = \"Hello World\"\n",
    "new_str = original_str.upper()\n",
    "print(new_str)  # Output: HELLO WORLD\n",
    "\n",
    "### `lower()`\n",
    "original_str = \"Hello World\"\n",
    "new_str = original_str.lower()\n",
    "print(new_str)  # Output: hello world\n",
    "\n",
    "### `strip()`\n",
    "original_str = \"  Hello World  \"\n",
    "new_str = original_str.strip()\n",
    "print(new_str)  # Output: \"Hello World\"\n",
    "\n",
    "### `lstrip()`\n",
    "original_str = \"  Hello World  \"\n",
    "new_str = original_str.lstrip()\n",
    "print(new_str)  # Output: \"Hello World  \"\n",
    "\n",
    "### `rstrip()`\n",
    "original_str = \"  Hello World  \"\n",
    "new_str = original_str.rstrip()\n",
    "print(new_str)  # Output: \"  Hello World\"\n",
    "\n",
    "### `replace(old, new)`\n",
    "original_str = \"Hello World\"\n",
    "new_str = original_str.replace(\"World\", \"Universe\")\n",
    "print(new_str)  # Output: \"Hello Universe\"\n",
    "\n",
    "### `count(substring)`\n",
    "original_str = \"Hello World\"\n",
    "count = original_str.count(\"l\")\n",
    "print(count)  # Output: 3\n",
    "\n",
    "### `find(substring)`\n",
    "original_str = \"Hello World\"\n",
    "index = original_str.find(\"l\")\n",
    "print(index)  # Output: 2\n",
    "\n",
    "### `index(substring)`\n",
    "original_str = \"Hello World\"\n",
    "index = original_str.index(\"l\")\n",
    "print(index)  # Output: 2\n",
    "\n",
    "### `split(separator)`\n",
    "original_str = \"Hello World\"\n",
    "words = original_str.split(\" \")\n",
    "print(words)  # Output: ['Hello', 'World']\n",
    "\n",
    "### `join(separator)`\n",
    "words = [\"Hello\", \"World\"]\n",
    "new_str = \" \".join(words)\n",
    "print(new_str)  # Output: Hello World"
   ]
  },
  {
   "attachments": {},
   "cell_type": "markdown",
   "metadata": {},
   "source": [
    "### **Data input - *Ma'lumotlarni kiritish***"
   ]
  },
  {
   "attachments": {},
   "cell_type": "markdown",
   "metadata": {},
   "source": [
    "To take user input in Python, you can use the `input()` function. It will prompt the user to enter a string of characters from the keyboard, which can be stored in a variable and processed as needed. For example:\n",
    "\n",
    "Note that the `input()` function was introduced in Python 3, and in versions prior to Python 3, you need to use the `raw_input()` function instead.\n",
    "\n",
    "---"
   ]
  },
  {
   "attachments": {},
   "cell_type": "markdown",
   "metadata": {},
   "source": [
    "Python-da foydalanuvchi kiritishini olish uchun `input()` funksiyasidan foydalanishingiz mumkin. Bu foydalanuvchini klaviaturadan o'zgaruvchida saqlanishi va kerak bo'lganda qayta ishlanishi mumkin bo'lgan belgilar qatorini kiritishni taklif qiladi. Masalan:\n",
    "\n",
    "E'tibor bering,` input () `funksiyasi Python 3 da kiritilgan va Python 3 dan oldingi versiyalarda uning o'rniga` xom_input () ' funksiyasidan foydalanish kerak."
   ]
  },
  {
   "cell_type": "code",
   "execution_count": 14,
   "metadata": {},
   "outputs": [
    {
     "name": "stdout",
     "output_type": "stream",
     "text": [
      "You entered: Hello!\n"
     ]
    }
   ],
   "source": [
    "user_input = input(\"Please enter some text: \")\n",
    "print(\"You entered: \" + user_input)"
   ]
  },
  {
   "attachments": {},
   "cell_type": "markdown",
   "metadata": {},
   "source": [
    "### **Comments - *Izohlar***"
   ]
  },
  {
   "attachments": {},
   "cell_type": "markdown",
   "metadata": {},
   "source": [
    "Comments are an important part of Python code and can be used to explain how the code works, make it more readable, and prevent certain code blocks from executing during testing. In Python, single-line comments can be created using the # symbol, while multi-line comments can be created using either triple quotes (''' or \"\"\") or multi-line strings. It is recommended to keep comments concise and to the point, and to follow the PEP 8 style guide for Python code when formatting comments and code in general.\n",
    "\n",
    "---"
   ]
  },
  {
   "attachments": {},
   "cell_type": "markdown",
   "metadata": {},
   "source": [
    "Izohlar - Python kodining muhim qismidir va kod qanday ishlashini tushuntirish, uni yanada o'qilishi va sinov paytida ba'zi kod bloklarining bajarilishini oldini olish uchun ishlatilishi mumkin. Pythonda # belgisi yordamida bitta qatorli sharhlar yaratilishi mumkin, ko'p qatorli sharhlar esa uchta tirnoq (\"' yoki \"\"\") yoki ko'p qatorli satrlar yordamida yaratilishi mumkin. Sharhlarni ixcham va aniq saqlash va sharhlar va umuman kodni formatlashda Python kodi uchun PEP8 uslubi qo'llanmasiga amal qilish tavsiya etiladi."
   ]
  },
  {
   "cell_type": "code",
   "execution_count": 15,
   "metadata": {},
   "outputs": [
    {
     "name": "stdout",
     "output_type": "stream",
     "text": [
      "Hello Hello!!\n"
     ]
    }
   ],
   "source": [
    "# This is a single-line comment\n",
    "\n",
    "\"\"\"\n",
    "This is a multi-line comment\n",
    "that spans across multiple lines\n",
    "and can be used to document\n",
    "the purpose of the code, its inputs,\n",
    "outputs, and any other relevant details.\n",
    "\"\"\"\n",
    "\n",
    "# This program prints out a greeting message\n",
    "# to the user based on their name input\n",
    "\n",
    "name = input(\"Please enter your name: \")  # prompt for user input\n",
    "print(\"Hello \" + name + \"!\")  # print out greeting"
   ]
  },
  {
   "attachments": {},
   "cell_type": "markdown",
   "metadata": {},
   "source": [
    "### **Exercises - *Mashqlar***"
   ]
  },
  {
   "attachments": {},
   "cell_type": "markdown",
   "metadata": {},
   "source": [
    "1. Write a program that prompts the user to enter two numbers, calculates their sum, and prints it out to the console.\n",
    "\n",
    "2. Declare a variable and assign it a value of your choice. Print out the value of the variable to the console.\n",
    "\n",
    "3. Write a program that declares a variable named `count` and assigns it an integer value. Then, use a `for` loop to print out the numbers from 1 to `count` to the console.\n",
    "\n",
    "4. Declare a variable named `name` and assign it a string value of your choice. Then, use string concatenation to create a greeting message that includes the value of the `name` variable.\n",
    "\n",
    "5. Write a program that prompts the user to enter a number and calculates its square and cube. Print out both values to the console.\n",
    "\n",
    "6. Declare two variables of your choice and assign them integer values. Use logical operators to print out whether their sum is greater than 10 or not.\n",
    "\n",
    "7. Declare a variable named `language` and assign it a string value of your choice. Then, use string formatting to create a message that includes the value of the `language` variable.\n",
    "\n",
    "8. Write a program that prompts the user to enter their age and calculates their age in months and days. Print out both values to the console.\n",
    "\n",
    "9. Declare a variable named `num` and assign it an integer value of your choice. Then, use a `while` loop to print out the numbers from `num` to 0 to the console.\n",
    "\n",
    "10. Write a program that prompts the user to enter a sentence and uses comments to describe what the program does in each step of its execution.\n",
    "\n",
    "I hope these exercises are helpful for you to practice and reinforce your understanding of these Python concepts. Let me know if you have any questions or need further clarification.\n",
    "\n",
    "---"
   ]
  },
  {
   "attachments": {},
   "cell_type": "markdown",
   "metadata": {},
   "source": [
    "1. Foydalanuvchini ikkita raqamni kiritishga undaydigan, ularning yig'indisini hisoblaydigan va konsolga chop etadigan dastur yozing.\n",
    "\n",
    "2. O'zgaruvchini e'lon qiling va unga siz tanlagan qiymatni belgilang. O'zgaruvchining qiymatini konsolga chop eting.\n",
    "\n",
    "3. `count` nomli o'zgaruvchini e'lon qiladigan va unga butun son qiymatini beradigan dastur yozing. Keyin, 1 dan `count` gacha bo'lgan raqamlarni konsolga chop etish uchun `for` loopidan foydalaning.\n",
    "\n",
    "4. `name` nomli o'zgaruvchini e'lon qiling va unga siz tanlagan satr qiymatini bering. Keyin `name` o'zgaruvchisining qiymatini o'z ichiga olgan tabrik xabarini yaratish uchun `string concatenation` dan foydalaning.\n",
    "\n",
    "5. Foydalanuvchini raqamni kiritishga undaydigan va uning kvadrat va kubini hisoblaydigan dastur yozing. Ikkala qiymatni ham konsolga chop eting.\n",
    "\n",
    "6. Siz tanlagan ikkita o'zgaruvchini e'lon qiling va ularga butun qiymatlarni belgilang. Mantiqiy operatorlardan foydalanib, ularning yig'indisi 10 dan katta yoki yo'qligini chop eting.\n",
    "\n",
    "7. `language` nomli o'zgaruvchini e'lon qiling va unga siz tanlagan satr qiymatini belgilang. Keyin `language` o'zgaruvchisining qiymatini o'z ichiga olgan xabar yaratish uchun satr formatlashdan foydalaning.\n",
    "\n",
    "8. Foydalanuvchini yoshini kiritishga undaydigan va yoshini oylar va kunlarda hisoblaydigan dastur yozing. Ikkala qiymatni ham konsolga chop eting.\n",
    "\n",
    "9. `num` nomli o'zgaruvchini e'lon qiling va unga siz tanlagan butun son qiymatini belgilang. Keyin `num` dan 0 gacha bo'lgan raqamlarni konsolga chop etish uchun `while` loopidan foydalaning.\n",
    "\n",
    "10. Foydalanuvchini jumla kiritishga undaydigan va dasturning bajarilishining har bir bosqichida nima qilishini tasvirlash uchun sharhlardan foydalanadigan dastur yozing.\n",
    "\n",
    "Umid qilamanki, ushbu mashqlar sizga ushbu Python tushunchalari haqida tushunchangizni mashq qilish va mustahkamlash uchun foydali bo'ladi. Agar sizda biron bir savol bo'lsa yoki qo'shimcha tushuntirish kerak bo'lsa, menga xabar bering."
   ]
  },
  {
   "attachments": {},
   "cell_type": "markdown",
   "metadata": {},
   "source": []
  }
 ],
 "metadata": {
  "kernelspec": {
   "display_name": "Python 3",
   "language": "python",
   "name": "python3"
  },
  "language_info": {
   "codemirror_mode": {
    "name": "ipython",
    "version": 3
   },
   "file_extension": ".py",
   "mimetype": "text/x-python",
   "name": "python",
   "nbconvert_exporter": "python",
   "pygments_lexer": "ipython3",
   "version": "3.10.4"
  },
  "orig_nbformat": 4
 },
 "nbformat": 4,
 "nbformat_minor": 2
}
